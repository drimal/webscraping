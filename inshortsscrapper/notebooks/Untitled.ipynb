{
 "cells": [
  {
   "cell_type": "code",
   "execution_count": 2,
   "metadata": {},
   "outputs": [],
   "source": [
    "import pandas as pd\n",
    "\n",
    "news = pd.read_csv('inshorts_news.csv')"
   ]
  },
  {
   "cell_type": "code",
   "execution_count": 3,
   "metadata": {},
   "outputs": [
    {
     "data": {
      "text/html": [
       "<div>\n",
       "<style scoped>\n",
       "    .dataframe tbody tr th:only-of-type {\n",
       "        vertical-align: middle;\n",
       "    }\n",
       "\n",
       "    .dataframe tbody tr th {\n",
       "        vertical-align: top;\n",
       "    }\n",
       "\n",
       "    .dataframe thead th {\n",
       "        text-align: right;\n",
       "    }\n",
       "</style>\n",
       "<table border=\"1\" class=\"dataframe\">\n",
       "  <thead>\n",
       "    <tr style=\"text-align: right;\">\n",
       "      <th></th>\n",
       "      <th>Date</th>\n",
       "      <th>headline</th>\n",
       "      <th>article_body</th>\n",
       "    </tr>\n",
       "  </thead>\n",
       "  <tbody>\n",
       "    <tr>\n",
       "      <th>0</th>\n",
       "      <td>05 Feb</td>\n",
       "      <td>Kuldeep is our frontline number one overseas s...</td>\n",
       "      <td>India head coach Ravi Shastri has said Chinama...</td>\n",
       "    </tr>\n",
       "    <tr>\n",
       "      <th>1</th>\n",
       "      <td>05 Feb</td>\n",
       "      <td>Neymar breaks down on 27th b'day, wishes for n...</td>\n",
       "      <td>World's most expensive footballer Neymar, who ...</td>\n",
       "    </tr>\n",
       "    <tr>\n",
       "      <th>2</th>\n",
       "      <td>05 Feb</td>\n",
       "      <td>People laughed at us when we made Yo-Yo test c...</td>\n",
       "      <td>India head coach Ravi Shastri, in a recent int...</td>\n",
       "    </tr>\n",
       "    <tr>\n",
       "      <th>3</th>\n",
       "      <td>05 Feb</td>\n",
       "      <td>BJP using government agencies to blackmail peo...</td>\n",
       "      <td>West Bengal Chief Minister Mamata Banerjee on ...</td>\n",
       "    </tr>\n",
       "    <tr>\n",
       "      <th>4</th>\n",
       "      <td>05 Feb</td>\n",
       "      <td>No regrets: Statistician who quit over delay i...</td>\n",
       "      <td>PC Mohanan, 63-year-old former acting Chairman...</td>\n",
       "    </tr>\n",
       "  </tbody>\n",
       "</table>\n",
       "</div>"
      ],
      "text/plain": [
       "     Date                                           headline  \\\n",
       "0  05 Feb  Kuldeep is our frontline number one overseas s...   \n",
       "1  05 Feb  Neymar breaks down on 27th b'day, wishes for n...   \n",
       "2  05 Feb  People laughed at us when we made Yo-Yo test c...   \n",
       "3  05 Feb  BJP using government agencies to blackmail peo...   \n",
       "4  05 Feb  No regrets: Statistician who quit over delay i...   \n",
       "\n",
       "                                        article_body  \n",
       "0  India head coach Ravi Shastri has said Chinama...  \n",
       "1  World's most expensive footballer Neymar, who ...  \n",
       "2  India head coach Ravi Shastri, in a recent int...  \n",
       "3  West Bengal Chief Minister Mamata Banerjee on ...  \n",
       "4  PC Mohanan, 63-year-old former acting Chairman...  "
      ]
     },
     "execution_count": 3,
     "metadata": {},
     "output_type": "execute_result"
    }
   ],
   "source": [
    "news.head()"
   ]
  },
  {
   "cell_type": "code",
   "execution_count": null,
   "metadata": {},
   "outputs": [],
   "source": []
  }
 ],
 "metadata": {
  "kernelspec": {
   "display_name": "Python 3",
   "language": "python",
   "name": "python3"
  },
  "language_info": {
   "codemirror_mode": {
    "name": "ipython",
    "version": 3
   },
   "file_extension": ".py",
   "mimetype": "text/x-python",
   "name": "python",
   "nbconvert_exporter": "python",
   "pygments_lexer": "ipython3",
   "version": "3.7.1"
  }
 },
 "nbformat": 4,
 "nbformat_minor": 2
}
